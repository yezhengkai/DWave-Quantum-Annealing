{
 "cells": [
  {
   "cell_type": "markdown",
   "metadata": {},
   "source": [
    "# Solve 1D Laplace's equation "
   ]
  },
  {
   "cell_type": "markdown",
   "metadata": {},
   "source": [
    "## Import packages"
   ]
  },
  {
   "cell_type": "code",
   "execution_count": 1,
   "metadata": {},
   "outputs": [],
   "source": [
    "import warnings\n",
    "\n",
    "import numpy as np\n",
    "import pandas as pd\n",
    "import matplotlib.pyplot as plt\n",
    "\n",
    "from neal import SimulatedAnnealingSampler\n",
    "from dwave.system import EmbeddingComposite, DWaveSampler\n",
    "\n",
    "from dwaveutils import bl_lstsq\n",
    "from dwaveutils.utils import Binary2Float"
   ]
  },
  {
   "cell_type": "markdown",
   "metadata": {},
   "source": [
    "## Define function"
   ]
  },
  {
   "cell_type": "code",
   "execution_count": 2,
   "metadata": {},
   "outputs": [],
   "source": [
    "def get_linear_system(N, num_bits,\n",
    "                   fixed_point=0, exact_x=True, random_seed=None):\n",
    "    \"\"\"Get information about 1D Laplace's equation.\"\"\"\n",
    "\n",
    "    # number of predictor and number of response\n",
    "    num_predictor_discrete = num_bits * N\n",
    "    num_response = N\n",
    "\n",
    "    # matrix `A`\n",
    "    A = (np.eye(num_response, k=-1)\n",
    "         - 2 * np.eye(num_response, k=0)\n",
    "         + np.eye(num_response, k=1))\n",
    "    # set the bit value to discrete the actual value as a fixed point\n",
    "    bit_value = bl_lstsq.get_bit_value(num_bits, fixed_point=fixed_point)\n",
    "    # discretized version of matrix `A`\n",
    "    A_discrete = bl_lstsq.discretize_matrix(A, bit_value)\n",
    "\n",
    "    if random_seed is None:\n",
    "        rng = np.random.default_rng()\n",
    "    else:\n",
    "        rng = np.random.default_rng(random_seed)\n",
    "\n",
    "    if exact_x:\n",
    "        # binary vector `q`\n",
    "        q = rng.choice([0, 1], size=num_predictor_discrete)\n",
    "        # vector `x`\n",
    "        x = q2x(q, bit_value)\n",
    "    else:\n",
    "        # vector `x`\n",
    "        x = (rng.choice([-1, 1], size=num_response)\n",
    "             * (2 ** fixed_point) * rng.random(num_response))\n",
    "\n",
    "    # calculate vector `b`\n",
    "    b = A @ x\n",
    "\n",
    "    output = {\n",
    "        'A': A,\n",
    "        'x': x,\n",
    "        'b': b,\n",
    "        'A_discrete': A_discrete,\n",
    "        'bit_value': bit_value\n",
    "    }\n",
    "    return output"
   ]
  },
  {
   "cell_type": "markdown",
   "metadata": {},
   "source": [
    "## Setting variables"
   ]
  },
  {
   "cell_type": "code",
   "execution_count": 3,
   "metadata": {},
   "outputs": [],
   "source": [
    "# size of symmetric matrix `A`\n",
    "N = 3\n",
    "# number of bits (include sign bit)\n",
    "num_bits = 4\n",
    "# n-vector bit value is defined by\n",
    "# [-2**(fixed_point), 2**(fixed_point-1), ..., 2**(fixed_point-n)]\n",
    "fixed_point = 0\n",
    "# whether x can be perfectly discrete\n",
    "exact_x = False\n",
    "random_seed = 19937\n",
    "# scaling factor for QUBO\n",
    "eq_scaling_val = 1/8\n",
    "# number of reads for Simulated annealing (SA) or Quantum annealing (QA)\n",
    "num_reads = 1000\n",
    "# sampler type must be one of {'SA', 'QA'}\n",
    "sampler_type = 'SA'\n",
    "\n",
    "# setup A, x, b, A_discrete, bit_value\n",
    "output = get_linear_system(\n",
    "    N, num_bits,\n",
    "    fixed_point=fixed_point, exact_x=exact_x, random_seed=random_seed\n",
    ")\n",
    "A = output['A']\n",
    "true_x = output['x']\n",
    "true_b = output['b']\n",
    "A_discrete = output['A_discrete']\n",
    "bit_value = output['bit_value']"
   ]
  },
  {
   "cell_type": "markdown",
   "metadata": {},
   "source": [
    "## Solve A*x=b by `numpy.linalg.lstsq`"
   ]
  },
  {
   "cell_type": "code",
   "execution_count": 4,
   "metadata": {},
   "outputs": [],
   "source": [
    "np_x = np.linalg.lstsq(A, true_b, rcond=None)[0]"
   ]
  },
  {
   "cell_type": "markdown",
   "metadata": {},
   "source": [
    "## Solve A_discrete*q=b problem as BQM optimization through simulated annealing or quantum annealing"
   ]
  },
  {
   "cell_type": "code",
   "execution_count": 5,
   "metadata": {},
   "outputs": [],
   "source": [
    "Q = bl_lstsq.get_qubo(A_discrete, true_b, eq_scaling_val=eq_scaling_val)\n",
    "if sampler_type == 'QA':\n",
    "    try:\n",
    "        sampler = EmbeddingComposite(DWaveSampler(solver={'qpu': True}))\n",
    "        _sampler_args = {}\n",
    "        if 'num_reads' in sampler.parameters:\n",
    "            _sampler_args['num_reads'] = num_reads\n",
    "        if 'answer_mode' in sampler.parameters:\n",
    "            _sampler_args['answer_mode'] = 'raw'\n",
    "        sampleset = sampler.sample_qubo(Q, **_sampler_args)\n",
    "    except ValueError:\n",
    "        warnings.warn('Cannot access QPU, use \\\n",
    "                        SimulatedAnnealingSampler instead.')\n",
    "        sampler = SimulatedAnnealingSampler()\n",
    "        sampleset = sampler.sample_qubo(Q, num_reads=num_reads)\n",
    "elif sampler_type == 'SA':\n",
    "    sampler = SimulatedAnnealingSampler()\n",
    "    sampleset = sampler.sample_qubo(Q, num_reads=num_reads)\n",
    "else:\n",
    "    raise(ValueError(\"The sampler_type is wrong, \\\n",
    "                        please enter 'SA' or 'QA'\"))"
   ]
  },
  {
   "cell_type": "markdown",
   "metadata": {},
   "source": [
    "## Solve A_discrete*q=b by brute force\n",
    "`Warning: this may take a lot of time!`"
   ]
  },
  {
   "cell_type": "code",
   "execution_count": 6,
   "metadata": {},
   "outputs": [
    {
     "name": "stderr",
     "output_type": "stream",
     "text": [
      "brute force: 100%|██████████| 4096/4096 [00:00<00:00, 53217.45it/s]\n"
     ]
    }
   ],
   "source": [
    "best_q, best_x, min_norm = bl_lstsq.bruteforce(A_discrete, true_b, bit_value)"
   ]
  },
  {
   "cell_type": "markdown",
   "metadata": {},
   "source": [
    "## Prepare for showing results and plotting"
   ]
  },
  {
   "cell_type": "code",
   "execution_count": 7,
   "metadata": {},
   "outputs": [],
   "source": [
    "# convert sampleset and its aggregate version to dataframe\n",
    "sampleset_pd = sampleset.to_pandas_dataframe()\n",
    "sampleset_pd_agg = sampleset.aggregate().to_pandas_dataframe()\n",
    "num_states = len(sampleset_pd_agg)\n",
    "num_b_entry = len(true_b)\n",
    "num_x_entry = len(true_x)\n",
    "num_q_entry = A_discrete.shape[1]\n",
    "# concatnate `sampleset_pd` and `x_at_each_read`\n",
    "x_at_each_read = pd.DataFrame(\n",
    "    np.row_stack(\n",
    "        [(sampleset_pd.iloc[i][:num_q_entry]).values.reshape(\n",
    "            (num_x_entry, -1)) @ bit_value\n",
    "            for i in range(num_reads)]\n",
    "    ),\n",
    "    columns=['x' + str(i) for i in range(num_x_entry)]\n",
    ")\n",
    "sampleset_pd = pd.concat([sampleset_pd, x_at_each_read], axis=1)\n",
    "sampleset_pd.rename(\n",
    "    columns=lambda c: c if isinstance(c, str) else 'q'+str(c),\n",
    "    inplace=True\n",
    ")\n",
    "# concatnate `sampleset_pd_agg` and `x_at_each_state`\n",
    "x_at_each_state = pd.DataFrame(\n",
    "    np.row_stack(\n",
    "        [(sampleset_pd_agg.iloc[i][:num_q_entry]).values.reshape(\n",
    "            (num_x_entry, -1)) @ bit_value\n",
    "            for i in range(num_states)]\n",
    "    ),\n",
    "    columns=['x' + str(i) for i in range(num_x_entry)]\n",
    ")\n",
    "sampleset_pd_agg = pd.concat([sampleset_pd_agg, x_at_each_state], axis=1)\n",
    "sampleset_pd_agg.rename(\n",
    "    columns=lambda c: c if isinstance(c, str) else 'q'+str(c),\n",
    "    inplace=True\n",
    ")\n",
    "# lowest energy state x and q\n",
    "lowest_q = sampleset_pd_agg.sort_values(\n",
    "    'energy').iloc[0, :num_q_entry].values\n",
    "lowest_x = Binary2Float.to_fixed_point(lowest_q, bit_value)\n",
    "# frequently occurring x and q\n",
    "frequent_q = sampleset_pd_agg.sort_values(\n",
    "    'num_occurrences', ascending=False).iloc[0, :num_q_entry].values\n",
    "frequent_x = Binary2Float.to_fixed_point(frequent_q, bit_value)\n",
    "# calculate expected x from x\n",
    "expected_x = sampleset_pd_agg.apply(\n",
    "    lambda row: row.iloc[-num_x_entry:]\n",
    "    * (row.num_occurrences / num_reads),\n",
    "    axis=1\n",
    ").sum().values\n",
    "# calculate excepted x from q\n",
    "tmp_q = sampleset_pd_agg.apply(\n",
    "    lambda row: row.iloc[:num_q_entry]\n",
    "    * (row.num_occurrences / num_reads),\n",
    "    axis=1\n",
    ").sum() > 0.5  # bool\n",
    "expected_x_discrete = Binary2Float.to_fixed_point(np.array(tmp_q), bit_value)"
   ]
  },
  {
   "cell_type": "markdown",
   "metadata": {},
   "source": [
    "## Show results"
   ]
  },
  {
   "cell_type": "code",
   "execution_count": 8,
   "metadata": {},
   "outputs": [
    {
     "name": "stdout",
     "output_type": "stream",
     "text": [
      "==================================================\n",
      "true x: [-0.51854756 -0.17133454 -0.29798686]\n",
      "true b: [ 0.86576058 -0.47386534  0.42463918]\n",
      "bit value: [-1.     0.5    0.25   0.125]\n",
      "==================================================\n",
      "# numpy solver\n",
      "np_x:  [-0.51854756 -0.17133454 -0.29798686]\n",
      "b: [ 0.86576058 -0.47386534  0.42463918]\n",
      "2-norm: 5.926969055564841e-16\n",
      "==================================================\n",
      "# brute force\n",
      "best x: [-0.5   -0.125 -0.25 ]\n",
      "best q: [1 1 0 0 1 1 1 1 1 1 1 0]\n",
      "b: [ 0.875 -0.5    0.375]\n",
      "2-norm: 0.05685451454693682\n",
      "==================================================\n",
      "# Simulated annealing/Quantum annealing\n",
      "lowest energy state x:\n",
      "[-0.5   -0.125 -0.25 ]\n",
      "lowest energy state q:\n",
      "[1. 1. 0. 0. 1. 1. 1. 1. 1. 1. 1. 0.]\n",
      "b: [ 0.875 -0.5    0.375]\n",
      "2-norm: 0.05685451454693682\n",
      "--------------------------------------------------\n",
      "most frequently occurring x:\n",
      "[-0.5   -0.125 -0.25 ]\n",
      "most frequently occurring q:\n",
      "[1. 1. 0. 0. 1. 1. 1. 1. 1. 1. 1. 0.]\n",
      "b: [ 0.875 -0.5    0.375]\n",
      "2-norm: 0.05685451454693682\n",
      "--------------------------------------------------\n",
      "expected x (from real value):\n",
      "[-0.446625 -0.07525  -0.238125]\n",
      "b: [ 0.818   -0.53425  0.401  ]\n",
      "2-norm: 0.08053689563646313\n",
      "--------------------------------------------------\n",
      "expected x (from discrete value):\n",
      "[-0.375 -0.25  -0.5  ]\n",
      "b: [ 0.5   -0.375  0.75 ]\n",
      "2-norm: 0.49941447683886125\n",
      "--------------------------------------------------\n",
      "Sample set:\n",
      "    q0  q1  q2  q3  q4  q5  q6  q7  q8  q9  q10  q11    energy  \\\n",
      "7    1   1   0   0   1   1   1   1   1   1    1    0 -0.143897   \n",
      "3    1   1   0   1   0   0   0   0   1   1    1    0 -0.139061   \n",
      "0    1   1   0   1   0   0   0   1   0   0    0    0 -0.130212   \n",
      "5    1   0   1   1   1   1   1   0   1   1    0    1 -0.141253   \n",
      "6    1   0   1   1   1   1   0   1   1   1    0    0 -0.138050   \n",
      "4    1   1   1   0   0   0   1   0   0   0    0    0 -0.129282   \n",
      "2    0   0   0   0   0   1   0   0   0   0    0    1 -0.103652   \n",
      "8    1   1   0   0   1   1   1   0   1   1    0    1 -0.140694   \n",
      "16   0   0   0   0   0   0   1   1   0   0    0    0 -0.104356   \n",
      "13   1   0   0   1   1   0   1   1   1   0    1    1 -0.124618   \n",
      "1    1   0   1   1   1   1   1   0   1   1    1    0 -0.137014   \n",
      "17   1   1   0   1   0   0   0   0   1   1    1    1 -0.138728   \n",
      "9    1   0   1   0   1   1   0   0   1   0    1    1 -0.127594   \n",
      "11   1   0   1   0   1   0   1   1   1   0    1    1 -0.124059   \n",
      "15   0   0   0   0   0   0   1   0   1   1    1    1 -0.093341   \n",
      "12   1   1   1   0   0   0   0   1   0   0    0    0 -0.125747   \n",
      "10   1   0   1   1   1   1   0   1   1   1    0    1 -0.137718   \n",
      "18   1   1   0   0   1   1   1   1   0   0    0    0 -0.100263   \n",
      "20   1   0   1   1   1   1   1   1   0   0    0    0 -0.096916   \n",
      "22   1   0   0   1   1   0   1   1   1   1    0    0 -0.120379   \n",
      "14   1   1   1   0   0   0   0   1   1   1    1    1 -0.133892   \n",
      "21   1   0   1   0   1   1   0   0   1   1    0    0 -0.135074   \n",
      "19   1   1   1   1   0   1   0   0   0   0    1    0 -0.099973   \n",
      "23   1   0   1   1   0   0   0   0   1   1    1    1 -0.112502   \n",
      "24   1   1   1   1   0   1   0   0   0   0    0    1 -0.104211   \n",
      "25   1   0   1   0   1   0   1   1   1   1    0    0 -0.115914   \n",
      "\n",
      "    num_occurrences     x0     x1     x2  \n",
      "7               143 -0.500 -0.125 -0.250  \n",
      "3               141 -0.375  0.000 -0.250  \n",
      "0               109 -0.375  0.125  0.000  \n",
      "5               109 -0.625 -0.250 -0.375  \n",
      "6                97 -0.625 -0.375 -0.500  \n",
      "4                70 -0.250  0.250  0.000  \n",
      "2                51  0.000  0.500  0.125  \n",
      "8                45 -0.500 -0.250 -0.375  \n",
      "16               38  0.000  0.375  0.000  \n",
      "13               31 -0.875 -0.625 -0.625  \n",
      "1                29 -0.625 -0.250 -0.250  \n",
      "17               27 -0.375  0.000 -0.125  \n",
      "9                24 -0.750 -0.500 -0.625  \n",
      "11               17 -0.750 -0.625 -0.625  \n",
      "15               16  0.000  0.250 -0.125  \n",
      "12               14 -0.250  0.125  0.000  \n",
      "10               13 -0.625 -0.375 -0.375  \n",
      "18                5 -0.500 -0.125  0.000  \n",
      "20                5 -0.625 -0.125  0.000  \n",
      "22                5 -0.875 -0.625 -0.500  \n",
      "14                4 -0.250  0.125 -0.125  \n",
      "21                3 -0.750 -0.500 -0.500  \n",
      "19                1 -0.125  0.500  0.250  \n",
      "23                1 -0.625  0.000 -0.125  \n",
      "24                1 -0.125  0.500  0.125  \n",
      "25                1 -0.750 -0.625 -0.500  \n",
      "==================================================\n"
     ]
    }
   ],
   "source": [
    "print('='*50)\n",
    "print('true x:', true_x)\n",
    "print('true b:', true_b)\n",
    "print('bit value:', bit_value)\n",
    "\n",
    "print('='*50)\n",
    "print('# numpy solver')\n",
    "print('np_x: ', np_x)\n",
    "print('b:', A @ np_x)\n",
    "print('2-norm:', np.linalg.norm(A @ np_x - true_b))\n",
    "\n",
    "print('='*50)\n",
    "print('# brute force')\n",
    "print('best x:', best_x)\n",
    "print('best q:', best_q)\n",
    "print('b:', A @ best_x)\n",
    "print('2-norm:', min_norm)\n",
    "\n",
    "print('='*50)\n",
    "print('# Simulated annealing/Quantum annealing')\n",
    "print('lowest energy state x:')\n",
    "print(lowest_x)\n",
    "print('lowest energy state q:')\n",
    "print(lowest_q)\n",
    "print('b:', A @ lowest_x)\n",
    "print('2-norm:', np.linalg.norm(A @ lowest_x - true_b))\n",
    "print('-'*50)\n",
    "print('most frequently occurring x:')\n",
    "print(frequent_x)\n",
    "print('most frequently occurring q:')\n",
    "print(frequent_q)\n",
    "print('b:', A @ frequent_x)\n",
    "print('2-norm:', np.linalg.norm(A @ frequent_x - true_b))\n",
    "print('-'*50)\n",
    "print('expected x (from real value):')\n",
    "print(expected_x)\n",
    "print('b:', A @ expected_x)\n",
    "print('2-norm:', np.linalg.norm(A @ expected_x - true_b))\n",
    "print('-'*50)\n",
    "print('expected x (from discrete value):')\n",
    "print(expected_x_discrete)\n",
    "print('b:', A @ expected_x_discrete)\n",
    "print('2-norm:', np.linalg.norm(A @ expected_x_discrete - true_b))\n",
    "print('-'*50)\n",
    "print('Sample set:')\n",
    "print(sampleset_pd_agg.sort_values('num_occurrences', ascending=False))\n",
    "print('='*50)"
   ]
  },
  {
   "cell_type": "markdown",
   "metadata": {},
   "source": [
    "## Plot histogram"
   ]
  },
  {
   "cell_type": "code",
   "execution_count": 9,
   "metadata": {},
   "outputs": [
    {
     "data": {
      "image/png": "[encoded data removed]",
      "text/plain": [
       "<Figure size 576x432 with 4 Axes>"
      ]
     },
     "metadata": {
      "needs_background": "light"
     },
     "output_type": "display_data"
    }
   ],
   "source": [
    "axes = sampleset_pd.hist(\n",
    "    figsize=(8, 6), bins=30,\n",
    "    column=['x' + str(i) for i in range(num_x_entry)],\n",
    ")\n",
    "axes = axes.ravel()\n",
    "for i in range(num_x_entry):\n",
    "    ax = axes[i]\n",
    "    ax.set_ylabel('counts')\n",
    "plt.tight_layout()\n",
    "plt.show()"
   ]
  }
 ],
 "metadata": {
  "interpreter": {
   "hash": "abced194db989aa4c185c4a4e567d5565bf6926adece1ecb0b394a2e6477d161"
  },
  "kernelspec": {
   "display_name": "Python 3.7.7 64-bit ('ocean': conda)",
   "language": "python",
   "name": "python3"
  },
  "language_info": {
   "codemirror_mode": {
    "name": "ipython",
    "version": 3
   },
   "file_extension": ".py",
   "mimetype": "text/x-python",
   "name": "python",
   "nbconvert_exporter": "python",
   "pygments_lexer": "ipython3",
   "version": "3.8.5"
  },
  "orig_nbformat": 2
 },
 "nbformat": 4,
 "nbformat_minor": 2
}
