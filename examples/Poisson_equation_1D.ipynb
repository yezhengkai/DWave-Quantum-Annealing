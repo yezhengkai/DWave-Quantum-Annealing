{
 "cells": [
  {
   "cell_type": "markdown",
   "metadata": {},
   "source": [
    "# Define Poisson equation"
   ]
  },
  {
   "cell_type": "markdown",
   "metadata": {},
   "source": [
    "## Import modules"
   ]
  },
  {
   "cell_type": "code",
   "execution_count": 1,
   "metadata": {},
   "outputs": [],
   "source": [
    "%load_ext autoreload\n",
    "%autoreload 2\n",
    "import warnings\n",
    "\n",
    "import matplotlib.pyplot as plt\n",
    "import numpy as np\n",
    "from discretize import TensorMesh\n",
    "from discretize.utils import mkvc\n",
    "\n",
    "from simpeg_ecosys.mathematical import PoissonCellCentered, VolumeSource\n",
    "\n",
    "# Suppress all warnings\n",
    "warnings.filterwarnings('ignore')"
   ]
  },
  {
   "cell_type": "markdown",
   "metadata": {},
   "source": [
    "## Set the mesh"
   ]
  },
  {
   "cell_type": "code",
   "execution_count": 2,
   "metadata": {},
   "outputs": [
    {
     "name": "stdout",
     "output_type": "stream",
     "text": [
      "\n",
      "  TensorMesh: 5 cells\n",
      "\n",
      "                      MESH EXTENT             CELL WIDTH      FACTOR\n",
      "  dir    nC        min           max         min       max      max\n",
      "  ---   ---  ---------------------------  ------------------  ------\n",
      "   x      5          0.00          5.00      1.00      1.00    1.00\n",
      "\n",
      "\n"
     ]
    }
   ],
   "source": [
    "delta = 1\n",
    "hx = np.ones(5) * delta\n",
    "origin = [0]\n",
    "mesh = TensorMesh([hx], origin=origin)\n",
    "bc_types = [[\"dirichlet\", \"dirichlet\"]]\n",
    "bc_values = [[0, 0]]\n",
    "print(mesh)"
   ]
  },
  {
   "cell_type": "markdown",
   "metadata": {},
   "source": [
    "## Set the model parameters (diffusion coefficient)"
   ]
  },
  {
   "cell_type": "code",
   "execution_count": 3,
   "metadata": {},
   "outputs": [],
   "source": [
    "# uniform medium\n",
    "model_parameters = mkvc(1 * np.ones(mesh.n_cells))"
   ]
  },
  {
   "cell_type": "markdown",
   "metadata": {},
   "source": [
    "## Set the source term"
   ]
  },
  {
   "cell_type": "code",
   "execution_count": 4,
   "metadata": {},
   "outputs": [
    {
     "name": "stdout",
     "output_type": "stream",
     "text": [
      "[\n",
      "       locations    |        values\n",
      "--------------------+------------------\n",
      "    [    2.5000]    |        1.0000    \n",
      "]\n"
     ]
    }
   ],
   "source": [
    "source1 = VolumeSource([[mesh.cell_centers_x[(mesh.n_cells//2)]]], values=[1])\n",
    "source_list = [source1]\n",
    "\n",
    "print(source_list)"
   ]
  },
  {
   "cell_type": "markdown",
   "metadata": {},
   "source": [
    "## Create an instance of `PoissonCellCentered`"
   ]
  },
  {
   "cell_type": "code",
   "execution_count": 5,
   "metadata": {},
   "outputs": [],
   "source": [
    "poisson = PoissonCellCentered(\n",
    "    mesh, bc_types, bc_values,\n",
    "    source_list=source_list,\n",
    "    model_parameters=model_parameters\n",
    ")"
   ]
  },
  {
   "cell_type": "markdown",
   "metadata": {},
   "source": [
    "# Solve Poisson equation using conventional numerical methods"
   ]
  },
  {
   "cell_type": "markdown",
   "metadata": {},
   "source": [
    "## Import modules"
   ]
  },
  {
   "cell_type": "code",
   "execution_count": 6,
   "metadata": {},
   "outputs": [],
   "source": [
    "import scipy.sparse as sp\n",
    "import scipy.sparse.linalg"
   ]
  },
  {
   "cell_type": "markdown",
   "metadata": {},
   "source": [
    "## Solve Poisson equation by `scipy.sparse.linalg.splu` and `scipy.sparse.linalg.spsolve`"
   ]
  },
  {
   "cell_type": "code",
   "execution_count": 7,
   "metadata": {},
   "outputs": [
    {
     "name": "stdout",
     "output_type": "stream",
     "text": [
      "A:\n",
      "[[ 3. -1.  0.  0.  0.]\n",
      " [-1.  2. -1.  0.  0.]\n",
      " [ 0. -1.  2. -1.  0.]\n",
      " [ 0.  0. -1.  2. -1.]\n",
      " [ 0.  0.  0. -1.  3.]]\n",
      "b:\n",
      "[0. 0. 1. 0. 0.]\n"
     ]
    }
   ],
   "source": [
    "A = poisson.getA().toarray()\n",
    "b = poisson.getRHS()\n",
    "print(f\"A:\\n{A}\")\n",
    "print(f\"b:\\n{b}\")\n",
    "\n",
    "lu = sp.linalg.splu(A)\n",
    "x_lu = lu.solve(b)\n",
    "x = sp.linalg.spsolve(A, b)\n",
    "if not np.all(np.isclose(x_lu, x)):\n",
    "    raise ArithmeticError"
   ]
  },
  {
   "cell_type": "markdown",
   "metadata": {},
   "source": [
    "## Show result"
   ]
  },
  {
   "cell_type": "code",
   "execution_count": 8,
   "metadata": {},
   "outputs": [
    {
     "data": {
      "image/png": "[encoded data removed]",
      "text/plain": [
       "<Figure size 432x288 with 1 Axes>"
      ]
     },
     "metadata": {
      "needs_background": "light"
     },
     "output_type": "display_data"
    },
    {
     "name": "stdout",
     "output_type": "stream",
     "text": [
      "x:\n",
      "[0.25 0.75 1.25 0.75 0.25]\n"
     ]
    }
   ],
   "source": [
    "mesh.plot_image(x)\n",
    "plt.title(\"Solved by `scipy.sparse.linalg.spsolve`\")\n",
    "plt.show()\n",
    "print(f\"x:\\n{x}\")"
   ]
  },
  {
   "cell_type": "markdown",
   "metadata": {},
   "source": [
    "# Solve Poisson equation using Simulated Annealing or Quantum Annealing (Direct QPU)"
   ]
  },
  {
   "cell_type": "markdown",
   "metadata": {},
   "source": [
    "## Import modules"
   ]
  },
  {
   "cell_type": "code",
   "execution_count": 9,
   "metadata": {},
   "outputs": [],
   "source": [
    "from neal import SimulatedAnnealingSampler\n",
    "from dwave.system import EmbeddingComposite, DWaveSampler\n",
    "\n",
    "from dwaveutils import bl_lstsq"
   ]
  },
  {
   "cell_type": "markdown",
   "metadata": {},
   "source": [
    "## Create an instance of `BlLstsqProblem`"
   ]
  },
  {
   "cell_type": "code",
   "execution_count": 10,
   "metadata": {},
   "outputs": [],
   "source": [
    "problem_params = {\"A\": A, \"b\": b}\n",
    "qubo_params = {\n",
    "    \"num_bits\": 4,\n",
    "    \"fixed_point\": 1,\n",
    "    \"sign\": \"pn\",\n",
    "    \"eq_scaling_val\": 1/8,\n",
    "}\n",
    "problem = bl_lstsq.problem.BlLstsqProblem(problem_params, qubo_params)"
   ]
  },
  {
   "cell_type": "markdown",
   "metadata": {},
   "source": [
    "## Create an instance of `BlLstsqDirectSolver`"
   ]
  },
  {
   "cell_type": "code",
   "execution_count": 11,
   "metadata": {},
   "outputs": [],
   "source": [
    "solver = bl_lstsq.solver.BlLstsqDirectSolver(problem)"
   ]
  },
  {
   "cell_type": "markdown",
   "metadata": {},
   "source": [
    "## Set sampler and parameters for `BlLstsqDirectSolver.solve` method"
   ]
  },
  {
   "cell_type": "code",
   "execution_count": 12,
   "metadata": {},
   "outputs": [],
   "source": [
    "sampler = SimulatedAnnealingSampler()\n",
    "# sampler = EmbeddingComposite(\n",
    "#     DWaveSampler(solver={'qpu': True}, postprocess=\"sampling\")\n",
    "# )  # use postprocess\n",
    "sampling_params = {\n",
    "    \"num_reads\": 1000,\n",
    "    \"chain_strength\": 100,  # no effect on SA\n",
    "    \"answer_mode\": \"histogram\"\n",
    "}"
   ]
  },
  {
   "cell_type": "markdown",
   "metadata": {},
   "source": [
    "## Solve"
   ]
  },
  {
   "cell_type": "code",
   "execution_count": 13,
   "metadata": {},
   "outputs": [],
   "source": [
    "result = solver.solve(sampler=sampler, sampling_params=sampling_params)\n",
    "x_directsolver = result[\"x\"]"
   ]
  },
  {
   "cell_type": "markdown",
   "metadata": {},
   "source": [
    "## Show result"
   ]
  },
  {
   "cell_type": "code",
   "execution_count": 14,
   "metadata": {},
   "outputs": [
    {
     "data": {
      "image/png": "[encoded data removed]",
      "text/plain": [
       "<Figure size 432x288 with 1 Axes>"
      ]
     },
     "metadata": {
      "needs_background": "light"
     },
     "output_type": "display_data"
    },
    {
     "name": "stdout",
     "output_type": "stream",
     "text": [
      "x:\n",
      "[0.25 0.75 1.25 0.75 0.25]\n"
     ]
    }
   ],
   "source": [
    "mesh.plot_image(x_directsolver)\n",
    "plt.title(\"Solved by `SA`\")\n",
    "# plt.title(\"Solved by `QA (Direct QPU)`\")\n",
    "plt.show()\n",
    "print(f\"x:\\n{x_directsolver}\")"
   ]
  },
  {
   "cell_type": "markdown",
   "metadata": {},
   "source": [
    "# Solve Poisson equation using Simulated Annealing or Quantum Annealing (Direct QPU) through an iterative procedure"
   ]
  },
  {
   "cell_type": "markdown",
   "metadata": {},
   "source": [
    "## Create an instance of `BlLstsqProblem`"
   ]
  },
  {
   "cell_type": "code",
   "execution_count": 15,
   "metadata": {},
   "outputs": [],
   "source": [
    "problem_params = {\"A\": A, \"b\": b}\n",
    "qubo_params = {\n",
    "    \"num_bits\": 2,\n",
    "    \"fixed_point\": 1,\n",
    "    \"sign\": \"p\",\n",
    "    \"eq_scaling_val\": 1/8,\n",
    "}\n",
    "problem = bl_lstsq.problem.BlLstsqProblem(problem_params, qubo_params)"
   ]
  },
  {
   "cell_type": "markdown",
   "metadata": {},
   "source": [
    "## Create an instance of `BlLstsqIterativeSolver`"
   ]
  },
  {
   "cell_type": "code",
   "execution_count": 16,
   "metadata": {},
   "outputs": [],
   "source": [
    "solver = bl_lstsq.BlLstsqIterativeSolver(problem)"
   ]
  },
  {
   "cell_type": "markdown",
   "metadata": {},
   "source": [
    "## Set initial x, sampler and parameters for `BlLstsqIterativeSolver.solve` method"
   ]
  },
  {
   "cell_type": "code",
   "execution_count": 17,
   "metadata": {},
   "outputs": [],
   "source": [
    "sampler = SimulatedAnnealingSampler()\n",
    "# sampler = EmbeddingComposite(\n",
    "#     DWaveSampler(solver={'qpu': True}, postprocess=\"sampling\")\n",
    "# )  # use postprocess\n",
    "sampling_params = {\n",
    "    \"num_reads\": 1000,\n",
    "    \"chain_strength\": 100,  # no effect on SA\n",
    "    \"answer_mode\": \"histogram\"\n",
    "}\n",
    "iter_params = {\n",
    "    \"scale_factor\": 2,\n",
    "    \"num_iter\": 20,\n",
    "    \"obj_tol\": 1e-3,\n",
    "    \"verbose\": True\n",
    "}\n",
    "rng = np.random.default_rng(1234)\n",
    "initial_x = (1 - (-1)) * rng.random(b.size) + (-1)"
   ]
  },
  {
   "cell_type": "markdown",
   "metadata": {},
   "source": [
    "## Solve"
   ]
  },
  {
   "cell_type": "code",
   "execution_count": 18,
   "metadata": {},
   "outputs": [
    {
     "name": "stdout",
     "output_type": "stream",
     "text": [
      "Iteration: 0\n",
      "  - x: [ 0.9534 -0.2396  0.8465 -0.4766 -0.3618]\n",
      "  - qubo_obj: nan\n",
      "  - obj: 4.38488959e+00\n",
      "Iteration: 1\n",
      "  - x: [-0.0466 -0.2396 -0.1535 -0.4766 -0.3618]\n",
      "  - qubo_obj: -9.46872194e-01\n",
      "  - obj: 9.99654676e-01\n",
      "Iteration: 2\n",
      "  - x: [-0.0466 -0.2396 -0.1535 -0.4766 -0.3618]\n",
      "  - qubo_obj: -1.19087326e+00\n",
      "  - obj: 9.99654676e-01\n",
      "Iteration: 3\n",
      "  - x: [-0.0466  0.2048  0.2909 -0.0322  0.0826]\n",
      "  - qubo_obj: -1.32332069e+00\n",
      "  - obj: 8.74851252e-01\n",
      "Iteration: 4\n",
      "  - x: [-0.0466  0.2048  0.7354  0.4123  0.0826]\n",
      "  - qubo_obj: -1.11860943e+00\n",
      "  - obj: 4.95126601e-01\n",
      "Iteration: 5\n",
      "  - x: [-0.0466  0.2048  0.7354  0.4123  0.0826]\n",
      "  - qubo_obj: -1.42946484e+00\n",
      "  - obj: 4.95126601e-01\n",
      "Iteration: 6\n",
      "  - x: [0.1509 0.4024 0.9329 0.4123 0.0826]\n",
      "  - qubo_obj: -1.72315851e+00\n",
      "  - obj: 3.82831709e-01\n",
      "Iteration: 7\n",
      "  - x: [0.1509 0.5999 0.9329 0.4123 0.0826]\n",
      "  - qubo_obj: -1.16547048e+00\n",
      "  - obj: 3.46408124e-01\n",
      "Iteration: 8\n",
      "  - x: [0.1509 0.4682 0.9329 0.544  0.2143]\n",
      "  - qubo_obj: -1.70534215e+00\n",
      "  - obj: 2.38140757e-01\n",
      "Iteration: 9\n",
      "  - x: [0.1509 0.5999 1.0646 0.6756 0.2143]\n",
      "  - qubo_obj: -8.54091657e-01\n",
      "  - obj: 2.22733652e-01\n",
      "Iteration: 10\n",
      "  - x: [0.2826 0.7316 1.1963 0.6756 0.2143]\n",
      "  - qubo_obj: -1.39723776e+00\n",
      "  - obj: 1.36259007e-01\n",
      "Iteration: 11\n",
      "  - x: [0.2826 0.7316 1.1963 0.6756 0.2143]\n",
      "  - qubo_obj: -8.41295892e-01\n",
      "  - obj: 1.36259007e-01\n",
      "Iteration: 12\n",
      "  - x: [0.1948 0.6438 1.1085 0.6756 0.2143]\n",
      "  - qubo_obj: -7.71781035e-01\n",
      "  - obj: 1.27044556e-01\n",
      "Iteration: 13\n",
      "  - x: [0.1948 0.6438 1.1085 0.6756 0.2143]\n",
      "  - qubo_obj: -1.26194384e+00\n",
      "  - obj: 1.27044556e-01\n",
      "Iteration: 14\n",
      "  - x: [0.2534 0.7023 1.167  0.6756 0.2143]\n",
      "  - qubo_obj: -1.47190996e+00\n",
      "  - obj: 8.64946372e-02\n",
      "Iteration: 15\n",
      "  - x: [0.2534 0.7023 1.167  0.6756 0.2143]\n",
      "  - qubo_obj: -8.92915757e-01\n",
      "  - obj: 8.64946372e-02\n",
      "Iteration: 16\n",
      "  - x: [0.2143 0.6633 1.167  0.6756 0.2143]\n",
      "  - qubo_obj: -8.82004709e-01\n",
      "  - obj: 7.35147592e-02\n",
      "Iteration: 17\n",
      "  - x: [0.2143 0.6893 1.193  0.7017 0.2403]\n",
      "  - qubo_obj: -1.56134640e+00\n",
      "  - obj: 6.53628351e-02\n",
      "Iteration: 18\n",
      "  - x: [0.2403 0.7153 1.219  0.7277 0.2403]\n",
      "  - qubo_obj: -1.41280204e+00\n",
      "  - obj: 3.07150793e-02\n",
      "Iteration: 19\n",
      "  - x: [0.2403 0.7153 1.219  0.7277 0.2403]\n",
      "  - qubo_obj: -1.00906045e+00\n",
      "  - obj: 3.07150793e-02\n",
      "Iteration: 20\n",
      "  - x: [0.2403 0.7327 1.219  0.7277 0.2403]\n",
      "  - qubo_obj: -1.03617935e+00\n",
      "  - obj: 2.69450957e-02\n"
     ]
    }
   ],
   "source": [
    "result = solver.solve(\n",
    "    initial_x,\n",
    "    sampler=sampler,\n",
    "    sampling_params=sampling_params,\n",
    "    iter_params=iter_params\n",
    ")\n",
    "x_iterativesolver = result[\"x\"]"
   ]
  },
  {
   "cell_type": "markdown",
   "metadata": {},
   "source": [
    "## Show result"
   ]
  },
  {
   "cell_type": "code",
   "execution_count": 19,
   "metadata": {},
   "outputs": [
    {
     "data": {
      "image/png": "[encoded data removed]",
      "text/plain": [
       "<Figure size 432x288 with 1 Axes>"
      ]
     },
     "metadata": {
      "needs_background": "light"
     },
     "output_type": "display_data"
    },
    {
     "name": "stdout",
     "output_type": "stream",
     "text": [
      "x:\n",
      "[0.24034766 0.73266873 1.21904746 0.72767281 0.2403381 ]\n"
     ]
    }
   ],
   "source": [
    "mesh.plot_image(x_iterativesolver)\n",
    "plt.title(\"Solved by `SA` (iterative)\")\n",
    "# plt.title(\"Solved by `QA (Direct QPU/iterative)`\")\n",
    "plt.show()\n",
    "print(f\"x:\\n{x_iterativesolver}\")"
   ]
  }
 ],
 "metadata": {
  "kernelspec": {
   "display_name": "Python 3",
   "language": "python",
   "name": "python3"
  },
  "language_info": {
   "codemirror_mode": {
    "name": "ipython",
    "version": 3
   },
   "file_extension": ".py",
   "mimetype": "text/x-python",
   "name": "python",
   "nbconvert_exporter": "python",
   "pygments_lexer": "ipython3",
   "version": "3.8.5"
  }
 },
 "nbformat": 4,
 "nbformat_minor": 4
}
